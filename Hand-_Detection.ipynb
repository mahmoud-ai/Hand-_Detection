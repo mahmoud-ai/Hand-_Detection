{
 "cells": [
  {
   "cell_type": "code",
   "execution_count": 1,
   "id": "8aa1d4fc",
   "metadata": {},
   "outputs": [],
   "source": [
    "# Importing Libraries\n",
    "import cv2\n",
    "import mediapipe as mp\n",
    "\n",
    "# Used to convert protobuf message\n",
    "# to a dictionary.\n",
    "from google.protobuf.json_format import MessageToDict\n"
   ]
  },
  {
   "cell_type": "code",
   "execution_count": 4,
   "id": "c7f593f3",
   "metadata": {},
   "outputs": [],
   "source": [
    "# Initializing the Model\n",
    "mpHands = mp.solutions.hands\n",
    "hands = mpHands.Hands(\n",
    "    static_image_mode=False,\n",
    "    model_complexity=1,\n",
    "    min_detection_confidence=0.75,\n",
    "    min_tracking_confidence=0.75,\n",
    "    max_num_hands=2)\n"
   ]
  },
  {
   "cell_type": "code",
   "execution_count": 5,
   "id": "ff6e1ea3",
   "metadata": {},
   "outputs": [],
   "source": [
    "# Start capturing video from webcam\n",
    "cap = cv2.VideoCapture(0)\n",
    "\n",
    "while True:\n",
    "\n",
    "\t# Read video frame by frame\n",
    "\tsuccess, img = cap.read()\n",
    "\n",
    "\t# Flip the image(frame)\n",
    "\timg = cv2.flip(img, 1)\n",
    "\n",
    "\t# Convert BGR image to RGB image\n",
    "\timgRGB = cv2.cvtColor(img, cv2.COLOR_BGR2RGB)\n",
    "\n",
    "\t# Process the RGB image\n",
    "\tresults = hands.process(imgRGB)\n",
    "\n",
    "\t# If hands are present in image(frame)\n",
    "\tif results.multi_hand_landmarks:\n",
    "\n",
    "\t\t# Both Hands are present in image(frame)\n",
    "\t\tif len(results.multi_handedness) == 2:\n",
    "\t\t\t\t# Display 'Both Hands' on the image\n",
    "\t\t\tcv2.putText(img, 'Both Hands', (250, 50),\n",
    "\t\t\t\t\t\tcv2.FONT_HERSHEY_COMPLEX, 0.9,\n",
    "\t\t\t\t\t\t(0, 255, 0), 2)\n",
    "\n",
    "\t\t# If any hand present\n",
    "\t\telse:\n",
    "\t\t\tfor i in results.multi_handedness:\n",
    "\t\t\t\n",
    "\t\t\t\t# Return whether it is Right or Left Hand\n",
    "\t\t\t\tlabel = MessageToDict(i)[\n",
    "\t\t\t\t\t'classification'][0]['label']\n",
    "\n",
    "\t\t\t\tif label == 'Left':\n",
    "\t\t\t\t\n",
    "\t\t\t\t\t# Display 'Left Hand' on left side of window\n",
    "\t\t\t\t\tcv2.putText(img, label+' Hand', (20, 50),\n",
    "\t\t\t\t\t\t\t\tcv2.FONT_HERSHEY_COMPLEX, 0.9,\n",
    "\t\t\t\t\t\t\t\t(0, 255, 0), 2)\n",
    "\n",
    "\t\t\t\tif label == 'Right':\n",
    "\t\t\t\t\n",
    "\t\t\t\t\t# Display 'Left Hand' on left side of window\n",
    "\t\t\t\t\tcv2.putText(img, label+' Hand', (460, 50),\n",
    "\t\t\t\t\t\t\t\tcv2.FONT_HERSHEY_COMPLEX,\n",
    "\t\t\t\t\t\t\t\t0.9, (0, 255, 0), 2)\n",
    "\n",
    "\t# Display Video and when 'q' is entered, destroy the window\n",
    "\tcv2.imshow('Image', img)\n",
    "\tif cv2.waitKey(1) & 0xff == ord('q'):\n",
    "\t\tbreak\n"
   ]
  },
  {
   "cell_type": "code",
   "execution_count": null,
   "id": "24a8f86d",
   "metadata": {},
   "outputs": [],
   "source": []
  }
 ],
 "metadata": {
  "kernelspec": {
   "display_name": "Python 3 (ipykernel)",
   "language": "python",
   "name": "python3"
  },
  "language_info": {
   "codemirror_mode": {
    "name": "ipython",
    "version": 3
   },
   "file_extension": ".py",
   "mimetype": "text/x-python",
   "name": "python",
   "nbconvert_exporter": "python",
   "pygments_lexer": "ipython3",
   "version": "3.9.13"
  }
 },
 "nbformat": 4,
 "nbformat_minor": 5
}
